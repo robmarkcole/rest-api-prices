{
 "cells": [
  {
   "cell_type": "markdown",
   "metadata": {},
   "source": [
    "The returned data structure should include:\n",
    "\n",
    "* the total price for the order\n",
    "* the total VAT for the order\n",
    "* price and VAT for each item in the order\n",
    "\n",
    "Load example order and pricing dicts"
   ]
  },
  {
   "cell_type": "code",
   "execution_count": 1,
   "metadata": {},
   "outputs": [],
   "source": [
    "# provided\n",
    "raw_pricing = {\n",
    "\t\"prices\": [\n",
    "\t\t{\n",
    "\t\t\t\"product_id\": 1,\n",
    "\t\t\t\"price\": 599,\n",
    "\t\t\t\"vat_band\": \"standard\"\n",
    "\t\t},\n",
    "\t\t{\n",
    "\t\t\t\"product_id\": 2,\n",
    "\t\t\t\"price\": 250,\n",
    "\t\t\t\"vat_band\": \"zero\"\n",
    "\t\t},\n",
    "\t\t{\n",
    "\t\t\t\"product_id\": 3,\n",
    "\t\t\t\"price\": 250,\n",
    "\t\t\t\"vat_band\": \"zero\"\n",
    "\t\t},\n",
    "\t\t{\n",
    "\t\t\t\"product_id\": 4,\n",
    "\t\t\t\"price\": 1000,\n",
    "\t\t\t\"vat_band\": \"zero\"\n",
    "\t\t},\n",
    "\t\t{\n",
    "\t\t\t\"product_id\": 5,\n",
    "\t\t\t\"price\": 1250,\n",
    "\t\t\t\"vat_band\": \"standard\"\n",
    "\t\t}\n",
    "\t],\n",
    "\t\"vat_bands\": {\n",
    "\t\t\"standard\": 0.2,\n",
    "\t\t\"zero\": 0\n",
    "\t}\n",
    "}"
   ]
  },
  {
   "cell_type": "markdown",
   "metadata": {},
   "source": [
    "format pricing into a dict where key is product_id"
   ]
  },
  {
   "cell_type": "code",
   "execution_count": 2,
   "metadata": {},
   "outputs": [],
   "source": [
    "def format_pricing(raw_pricing : dict):\n",
    "    return {product[\"product_id\"]:{\"price\":product[\"price\"], \n",
    "                                    \"VAT\":round(raw_pricing[\"vat_bands\"][product[\"vat_band\"]]*product[\"price\"], 2) # round to nearest penny\n",
    "                                  } for product in raw_pricing[\"prices\"]}"
   ]
  },
  {
   "cell_type": "code",
   "execution_count": 3,
   "metadata": {},
   "outputs": [
    {
     "data": {
      "text/plain": [
       "{1: {'price': 599, 'VAT': 119.8},\n",
       " 2: {'price': 250, 'VAT': 0},\n",
       " 3: {'price': 250, 'VAT': 0},\n",
       " 4: {'price': 1000, 'VAT': 0},\n",
       " 5: {'price': 1250, 'VAT': 250.0}}"
      ]
     },
     "execution_count": 3,
     "metadata": {},
     "output_type": "execute_result"
    }
   ],
   "source": [
    "pricing = format_pricing(raw_pricing)\n",
    "pricing"
   ]
  },
  {
   "cell_type": "code",
   "execution_count": 4,
   "metadata": {},
   "outputs": [],
   "source": [
    "# Provided\n",
    "order = {\n",
    "    \"order\": {\n",
    "        \"id\": 12345,\n",
    "        \"currency\": \"GBP\", # optional\n",
    "        \"customer\": {\n",
    "            ...\n",
    "        },\n",
    "        \"items\": [\n",
    "            {\n",
    "                \"product_id\": 1,\n",
    "                \"quantity\": 1\n",
    "            },\n",
    "            {\n",
    "                \"product_id\": 2,\n",
    "                \"quantity\": 5\n",
    "            },\n",
    "            {\n",
    "                \"product_id\": 3,\n",
    "                \"quantity\": 1\n",
    "            }\n",
    "        ]\n",
    "    }\n",
    "}"
   ]
  },
  {
   "cell_type": "markdown",
   "metadata": {},
   "source": [
    "Format order into a dict where the key is the product_id and value is the quantity"
   ]
  },
  {
   "cell_type": "code",
   "execution_count": 5,
   "metadata": {},
   "outputs": [
    {
     "data": {
      "text/plain": [
       "{1: 1, 2: 5, 3: 1}"
      ]
     },
     "execution_count": 5,
     "metadata": {},
     "output_type": "execute_result"
    }
   ],
   "source": [
    "def format_order(order : dict):\n",
    "    return {item[\"product_id\"]:item[\"quantity\"] for item in order[\"order\"][\"items\"]}\n",
    "\n",
    "order_quantities = format_order(order)\n",
    "order_quantities"
   ]
  },
  {
   "cell_type": "markdown",
   "metadata": {},
   "source": [
    "We can now process the order"
   ]
  },
  {
   "cell_type": "code",
   "execution_count": 6,
   "metadata": {},
   "outputs": [],
   "source": [
    "def calc_order_details(order_quantities : dict, pricing : dict, conversion_rate : float = 1.0):\n",
    "    summary = {}\n",
    "    running_total_price = 0\n",
    "    running_total_vat = 0\n",
    "    \n",
    "    for product_id in order_quantities:\n",
    "        summary[product_id] = {}\n",
    "        quantity = order_quantities[product_id] \n",
    "        summary[product_id]['quantity'] = quantity\n",
    "        \n",
    "        total_price = quantity * pricing[product_id]['price'] * conversion_rate\n",
    "        summary[product_id][\"total_price\"] = total_price\n",
    "        running_total_price += total_price\n",
    "        \n",
    "        total_vat = quantity * pricing[product_id]['VAT'] * conversion_rate\n",
    "        summary[product_id][\"total_VAT\"] = total_vat\n",
    "        running_total_vat += total_vat\n",
    "    \n",
    "    summary[\"total_price\"] = round(running_total_price, 2)\n",
    "    summary[\"total_VAT\"] = round(running_total_vat, 2)\n",
    "    return summary"
   ]
  },
  {
   "cell_type": "code",
   "execution_count": 7,
   "metadata": {},
   "outputs": [],
   "source": [
    "order_details = calc_order_details(order_quantities, pricing, conversion_rate = 2.0)"
   ]
  },
  {
   "cell_type": "code",
   "execution_count": 8,
   "metadata": {},
   "outputs": [
    {
     "data": {
      "text/plain": [
       "{1: {'quantity': 1, 'total_price': 1198.0, 'total_VAT': 239.6},\n",
       " 2: {'quantity': 5, 'total_price': 2500.0, 'total_VAT': 0.0},\n",
       " 3: {'quantity': 1, 'total_price': 500.0, 'total_VAT': 0.0},\n",
       " 'total_price': 4198.0,\n",
       " 'total_VAT': 239.6}"
      ]
     },
     "execution_count": 8,
     "metadata": {},
     "output_type": "execute_result"
    }
   ],
   "source": [
    "order_details"
   ]
  },
  {
   "cell_type": "markdown",
   "metadata": {},
   "source": [
    "## Handle currency\n",
    "https://free.currencyconverterapi.com/\n",
    "* Conversion Pairs per Request: 2\n",
    "* Number of Requests per Hour: 100\n",
    "* Currency values are updated every 60 minutes"
   ]
  },
  {
   "cell_type": "code",
   "execution_count": 9,
   "metadata": {},
   "outputs": [],
   "source": [
    "CURRENCY_API_KEY = '834dbbebf0270311fc5d'"
   ]
  },
  {
   "cell_type": "code",
   "execution_count": 10,
   "metadata": {},
   "outputs": [
    {
     "data": {
      "text/plain": [
       "'GBP'"
      ]
     },
     "execution_count": 10,
     "metadata": {},
     "output_type": "execute_result"
    }
   ],
   "source": [
    "# need to determine conversion rate\n",
    "currency = None\n",
    "\n",
    "if not \"currency\" in order[\"order\"].keys():\n",
    "    currency = \"GBP\"\n",
    "else:\n",
    "    currency = order[\"order\"][\"currency\"]\n",
    "    \n",
    "currency"
   ]
  },
  {
   "cell_type": "markdown",
   "metadata": {},
   "source": [
    "We always want the conversion rate from GBP"
   ]
  },
  {
   "cell_type": "code",
   "execution_count": 11,
   "metadata": {},
   "outputs": [],
   "source": [
    "from requests import get\n",
    "from datetime import datetime, timedelta"
   ]
  },
  {
   "cell_type": "code",
   "execution_count": 12,
   "metadata": {},
   "outputs": [
    {
     "data": {
      "text/plain": [
       "True"
      ]
     },
     "execution_count": 12,
     "metadata": {},
     "output_type": "execute_result"
    }
   ],
   "source": [
    "datetime.now() - timedelta(hours=1) < datetime.now() - timedelta(minutes=30)"
   ]
  },
  {
   "cell_type": "code",
   "execution_count": 13,
   "metadata": {},
   "outputs": [
    {
     "name": "stdout",
     "output_type": "stream",
     "text": [
      "GBP_USD\n"
     ]
    }
   ],
   "source": [
    "query_currency = 'USD'\n",
    "query = f'GBP_{query_currency}'\n",
    "print(query)"
   ]
  },
  {
   "cell_type": "code",
   "execution_count": 14,
   "metadata": {},
   "outputs": [
    {
     "data": {
      "text/plain": [
       "1.331797"
      ]
     },
     "execution_count": 14,
     "metadata": {},
     "output_type": "execute_result"
    }
   ],
   "source": [
    "url = 'https://free.currencyconverterapi.com/api/v6/convert?'\n",
    "response = get(f'{url}apiKey={CURRENCY_API_KEY}&q={query}&compact=ultra').json()\n",
    "rate = response[query]\n",
    "rate"
   ]
  },
  {
   "cell_type": "markdown",
   "metadata": {},
   "source": [
    "We should cahce these values in a dict and only request the value if it has not been updated in the last 60 minutes. Lets write a function for that"
   ]
  },
  {
   "cell_type": "code",
   "execution_count": 15,
   "metadata": {},
   "outputs": [],
   "source": [
    "conversion_rates = {'fake_currency' : {'rate': 1.3, 'updated': datetime.now()}} # init and show contents"
   ]
  },
  {
   "cell_type": "code",
   "execution_count": 16,
   "metadata": {},
   "outputs": [],
   "source": [
    "def get_conversion_rate(currency : str):\n",
    "    \"\"\"\n",
    "    Get the conversion_rate for a currency relative to GBP.\n",
    "    \n",
    "    currency : 3 char str\n",
    "    \"\"\"\n",
    "    if currency == 'GBP':\n",
    "        return 1.0\n",
    "\n",
    "    if currency in conversion_rates.keys():\n",
    "        if conversion_rates[currency][\"updated\"] > datetime.now() - timedelta(hours=1):\n",
    "            return conversion_rates[currency]['rate'] # is up to date, return the rate      \n",
    "        \n",
    "    query = f'GBP_{currency}'\n",
    "    url = 'https://free.currencyconverterapi.com/api/v6/convert?'\n",
    "    rate = get(f'{url}apiKey={CURRENCY_API_KEY}&q={query}&compact=ultra').json()[query]\n",
    "    conversion_rates[currency] = {\"rate\": rate, \"updated\": datetime.now()}\n",
    "    return rate"
   ]
  },
  {
   "cell_type": "code",
   "execution_count": 17,
   "metadata": {},
   "outputs": [
    {
     "data": {
      "text/plain": [
       "{'fake_currency': {'rate': 1.3,\n",
       "  'updated': datetime.datetime(2019, 3, 17, 13, 27, 40, 508247)}}"
      ]
     },
     "execution_count": 17,
     "metadata": {},
     "output_type": "execute_result"
    }
   ],
   "source": [
    "conversion_rates"
   ]
  },
  {
   "cell_type": "code",
   "execution_count": 18,
   "metadata": {},
   "outputs": [
    {
     "data": {
      "text/plain": [
       "1.331797"
      ]
     },
     "execution_count": 18,
     "metadata": {},
     "output_type": "execute_result"
    }
   ],
   "source": [
    "get_conversion_rate(currency='USD')"
   ]
  },
  {
   "cell_type": "code",
   "execution_count": 19,
   "metadata": {},
   "outputs": [
    {
     "data": {
      "text/plain": [
       "{'fake_currency': {'rate': 1.3,\n",
       "  'updated': datetime.datetime(2019, 3, 17, 13, 27, 40, 508247)},\n",
       " 'USD': {'rate': 1.331797,\n",
       "  'updated': datetime.datetime(2019, 3, 17, 13, 27, 40, 808368)}}"
      ]
     },
     "execution_count": 19,
     "metadata": {},
     "output_type": "execute_result"
    }
   ],
   "source": [
    "conversion_rates"
   ]
  },
  {
   "cell_type": "markdown",
   "metadata": {},
   "source": [
    "It has been added"
   ]
  },
  {
   "cell_type": "markdown",
   "metadata": {},
   "source": [
    "get_conversion_rate(currency='USD') # updated without another query to the API"
   ]
  },
  {
   "cell_type": "code",
   "execution_count": 20,
   "metadata": {},
   "outputs": [
    {
     "data": {
      "text/plain": [
       "70.37267"
      ]
     },
     "execution_count": 20,
     "metadata": {},
     "output_type": "execute_result"
    }
   ],
   "source": [
    "get_conversion_rate(currency='PHP')"
   ]
  },
  {
   "cell_type": "code",
   "execution_count": 21,
   "metadata": {},
   "outputs": [
    {
     "data": {
      "text/plain": [
       "{'fake_currency': {'rate': 1.3,\n",
       "  'updated': datetime.datetime(2019, 3, 17, 13, 27, 40, 508247)},\n",
       " 'USD': {'rate': 1.331797,\n",
       "  'updated': datetime.datetime(2019, 3, 17, 13, 27, 40, 808368)},\n",
       " 'PHP': {'rate': 70.37267,\n",
       "  'updated': datetime.datetime(2019, 3, 17, 13, 27, 41, 114905)}}"
      ]
     },
     "execution_count": 21,
     "metadata": {},
     "output_type": "execute_result"
    }
   ],
   "source": [
    "conversion_rates"
   ]
  },
  {
   "cell_type": "code",
   "execution_count": 22,
   "metadata": {},
   "outputs": [
    {
     "data": {
      "text/plain": [
       "1.0"
      ]
     },
     "execution_count": 22,
     "metadata": {},
     "output_type": "execute_result"
    }
   ],
   "source": [
    "get_conversion_rate(currency='GBP')"
   ]
  },
  {
   "cell_type": "markdown",
   "metadata": {},
   "source": [
    "## Conversion class\n",
    "Lets encapsulate conversion in a class"
   ]
  },
  {
   "cell_type": "code",
   "execution_count": 41,
   "metadata": {},
   "outputs": [],
   "source": [
    "class currency_conversion():\n",
    "    \"\"\"\n",
    "    Class to keep track of currency conversion.\n",
    "    \"\"\"\n",
    "\n",
    "    def __init__(self, api_key : str, default_currency : str = 'GBP'):\n",
    "        self._api_key = api_key\n",
    "        self._default_currency = default_currency\n",
    "        self._conversion_rates = {}\n",
    "\n",
    "    def get_conversion_rate(self, currency : str):\n",
    "        \"\"\"\n",
    "        Get the conversion_rate for a currency relative to GBP.\n",
    "    \n",
    "        currency : 3 char str\n",
    "        \"\"\"\n",
    "        if currency == self._default_currency:\n",
    "            return 1.0\n",
    "\n",
    "        if currency in self._conversion_rates.keys():\n",
    "            if self._conversion_rates[currency][\"updated\"] > datetime.now() - timedelta(hours=1):\n",
    "                return self._conversion_rates[currency]['rate'] # is up to date, return the rate      \n",
    "        \n",
    "        # It is necessary to do a query\n",
    "        query = f'GBP_{currency}'\n",
    "        url = 'https://free.currencyconverterapi.com/api/v6/convert?'\n",
    "        rate = get(f'{url}apiKey={CURRENCY_API_KEY}&q={query}&compact=ultra').json()[query]\n",
    "        self._conversion_rates[currency] = {\"rate\": rate, \"updated\": datetime.now()}\n",
    "        return rate\n",
    "    \n",
    "    @property\n",
    "    def conversion_rates(self):\n",
    "        \"\"\"Return the history of conversion rates.\"\"\"\n",
    "        return self._conversion_rates"
   ]
  },
  {
   "cell_type": "code",
   "execution_count": 42,
   "metadata": {},
   "outputs": [],
   "source": [
    "currency_converter = currency_conversion(api_key=CURRENCY_API_KEY)"
   ]
  },
  {
   "cell_type": "code",
   "execution_count": 43,
   "metadata": {},
   "outputs": [
    {
     "data": {
      "text/plain": [
       "1.331797"
      ]
     },
     "execution_count": 43,
     "metadata": {},
     "output_type": "execute_result"
    }
   ],
   "source": [
    "currency_converter.get_conversion_rate('USD')"
   ]
  },
  {
   "cell_type": "code",
   "execution_count": 44,
   "metadata": {},
   "outputs": [
    {
     "data": {
      "text/plain": [
       "1.0"
      ]
     },
     "execution_count": 44,
     "metadata": {},
     "output_type": "execute_result"
    }
   ],
   "source": [
    "currency_converter.get_conversion_rate('GBP')"
   ]
  },
  {
   "cell_type": "code",
   "execution_count": 45,
   "metadata": {},
   "outputs": [
    {
     "data": {
      "text/plain": [
       "70.37267"
      ]
     },
     "execution_count": 45,
     "metadata": {},
     "output_type": "execute_result"
    }
   ],
   "source": [
    "currency_converter.get_conversion_rate('PHP')"
   ]
  },
  {
   "cell_type": "code",
   "execution_count": 46,
   "metadata": {},
   "outputs": [
    {
     "data": {
      "text/plain": [
       "{'USD': {'rate': 1.331797,\n",
       "  'updated': datetime.datetime(2019, 3, 17, 13, 35, 52, 22177)},\n",
       " 'PHP': {'rate': 70.37267,\n",
       "  'updated': datetime.datetime(2019, 3, 17, 13, 35, 54, 368635)}}"
      ]
     },
     "execution_count": 46,
     "metadata": {},
     "output_type": "execute_result"
    }
   ],
   "source": [
    "currency_converter.conversion_rates"
   ]
  },
  {
   "cell_type": "code",
   "execution_count": null,
   "metadata": {},
   "outputs": [],
   "source": []
  }
 ],
 "metadata": {
  "kernelspec": {
   "display_name": "Python 3",
   "language": "python",
   "name": "python3"
  },
  "language_info": {
   "codemirror_mode": {
    "name": "ipython",
    "version": 3
   },
   "file_extension": ".py",
   "mimetype": "text/x-python",
   "name": "python",
   "nbconvert_exporter": "python",
   "pygments_lexer": "ipython3",
   "version": "3.6.5"
  }
 },
 "nbformat": 4,
 "nbformat_minor": 2
}
