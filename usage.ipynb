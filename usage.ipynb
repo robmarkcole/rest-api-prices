{
 "cells": [
  {
   "cell_type": "code",
   "execution_count": 1,
   "metadata": {},
   "outputs": [],
   "source": [
    "from requests import get\n",
    "import json"
   ]
  },
  {
   "cell_type": "code",
   "execution_count": 2,
   "metadata": {},
   "outputs": [],
   "source": [
    "# Provided\n",
    "order = {\n",
    "    \"order\": {\n",
    "        \"id\": 12345,\n",
    "        \"items\": [\n",
    "            {\n",
    "                \"product_id\": 1,\n",
    "                \"quantity\": 1\n",
    "            },\n",
    "            {\n",
    "                \"product_id\": 2,\n",
    "                \"quantity\": 5\n",
    "            },\n",
    "            {\n",
    "                \"product_id\": 3,\n",
    "                \"quantity\": 1\n",
    "            }\n",
    "        ]\n",
    "    }\n",
    "}"
   ]
  },
  {
   "cell_type": "markdown",
   "metadata": {},
   "source": [
    "Check the response for the first order"
   ]
  },
  {
   "cell_type": "code",
   "execution_count": 3,
   "metadata": {},
   "outputs": [
    {
     "data": {
      "text/plain": [
       "{'1': {'quantity': 1, 'total_price': 599.0, 'total_VAT': 119.8},\n",
       " '2': {'quantity': 5, 'total_price': 1250.0, 'total_VAT': 0.0},\n",
       " '3': {'quantity': 1, 'total_price': 250.0, 'total_VAT': 0.0},\n",
       " 'total_price': 2099.0,\n",
       " 'total_VAT': 119.8,\n",
       " 'currency': 'GBP'}"
      ]
     },
     "execution_count": 3,
     "metadata": {},
     "output_type": "execute_result"
    }
   ],
   "source": [
    "get(f'http://localhost:5000/{json.dumps(order)}').json()"
   ]
  },
  {
   "cell_type": "markdown",
   "metadata": {},
   "source": [
    "Repeat the order with 'USD'"
   ]
  },
  {
   "cell_type": "code",
   "execution_count": 4,
   "metadata": {},
   "outputs": [],
   "source": [
    "order_2 = order.copy()"
   ]
  },
  {
   "cell_type": "code",
   "execution_count": 5,
   "metadata": {},
   "outputs": [],
   "source": [
    "order_2[\"order\"][\"currency\"] = 'USD'"
   ]
  },
  {
   "cell_type": "code",
   "execution_count": 6,
   "metadata": {},
   "outputs": [
    {
     "data": {
      "text/plain": [
       "{'1': {'quantity': 1, 'total_price': 797.75, 'total_VAT': 159.55},\n",
       " '2': {'quantity': 5, 'total_price': 1664.75, 'total_VAT': 0.0},\n",
       " '3': {'quantity': 1, 'total_price': 332.95, 'total_VAT': 0.0},\n",
       " 'total_price': 2795.44,\n",
       " 'total_VAT': 159.55,\n",
       " 'currency': 'USD'}"
      ]
     },
     "execution_count": 6,
     "metadata": {},
     "output_type": "execute_result"
    }
   ],
   "source": [
    "get(f'http://localhost:5000/{json.dumps(order_2)}').json()"
   ]
  },
  {
   "cell_type": "code",
   "execution_count": null,
   "metadata": {},
   "outputs": [],
   "source": []
  }
 ],
 "metadata": {
  "kernelspec": {
   "display_name": "Python 3",
   "language": "python",
   "name": "python3"
  },
  "language_info": {
   "codemirror_mode": {
    "name": "ipython",
    "version": 3
   },
   "file_extension": ".py",
   "mimetype": "text/x-python",
   "name": "python",
   "nbconvert_exporter": "python",
   "pygments_lexer": "ipython3",
   "version": "3.6.5"
  }
 },
 "nbformat": 4,
 "nbformat_minor": 2
}
