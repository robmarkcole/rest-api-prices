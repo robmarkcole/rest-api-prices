{
 "cells": [
  {
   "cell_type": "markdown",
   "metadata": {},
   "source": [
    "The returned data structure should include:\n",
    "\n",
    "* the total price for the order\n",
    "* the total VAT for the order\n",
    "* price and VAT for each item in the order\n",
    "\n",
    "Load example order and pricing dicts"
   ]
  },
  {
   "cell_type": "code",
   "execution_count": 1,
   "metadata": {},
   "outputs": [],
   "source": [
    "# provided\n",
    "raw_pricing = {\n",
    "\t\"prices\": [\n",
    "\t\t{\n",
    "\t\t\t\"product_id\": 1,\n",
    "\t\t\t\"price\": 599,\n",
    "\t\t\t\"vat_band\": \"standard\"\n",
    "\t\t},\n",
    "\t\t{\n",
    "\t\t\t\"product_id\": 2,\n",
    "\t\t\t\"price\": 250,\n",
    "\t\t\t\"vat_band\": \"zero\"\n",
    "\t\t},\n",
    "\t\t{\n",
    "\t\t\t\"product_id\": 3,\n",
    "\t\t\t\"price\": 250,\n",
    "\t\t\t\"vat_band\": \"zero\"\n",
    "\t\t},\n",
    "\t\t{\n",
    "\t\t\t\"product_id\": 4,\n",
    "\t\t\t\"price\": 1000,\n",
    "\t\t\t\"vat_band\": \"zero\"\n",
    "\t\t},\n",
    "\t\t{\n",
    "\t\t\t\"product_id\": 5,\n",
    "\t\t\t\"price\": 1250,\n",
    "\t\t\t\"vat_band\": \"standard\"\n",
    "\t\t}\n",
    "\t],\n",
    "\t\"vat_bands\": {\n",
    "\t\t\"standard\": 0.2,\n",
    "\t\t\"zero\": 0\n",
    "\t}\n",
    "}"
   ]
  },
  {
   "cell_type": "markdown",
   "metadata": {},
   "source": [
    "format pricing into a dict where key is product_id"
   ]
  },
  {
   "cell_type": "code",
   "execution_count": 2,
   "metadata": {},
   "outputs": [],
   "source": [
    "def format_pricing(pricing : dict):\n",
    "    return {product[\"product_id\"]:{\"price\":product[\"price\"], \n",
    "                                    \"VAT\":round(pricing[\"vat_bands\"][product[\"vat_band\"]]*product[\"price\"], 2) # round to nearest penny\n",
    "                                  } for product in pricing[\"prices\"]}"
   ]
  },
  {
   "cell_type": "code",
   "execution_count": 3,
   "metadata": {},
   "outputs": [
    {
     "data": {
      "text/plain": [
       "{1: {'price': 599, 'VAT': 119.8},\n",
       " 2: {'price': 250, 'VAT': 0},\n",
       " 3: {'price': 250, 'VAT': 0},\n",
       " 4: {'price': 1000, 'VAT': 0},\n",
       " 5: {'price': 1250, 'VAT': 250.0}}"
      ]
     },
     "execution_count": 3,
     "metadata": {},
     "output_type": "execute_result"
    }
   ],
   "source": [
    "pricing = format_pricing(raw_pricing)\n",
    "pricing"
   ]
  },
  {
   "cell_type": "code",
   "execution_count": 4,
   "metadata": {},
   "outputs": [],
   "source": [
    "# Provided\n",
    "order = {\n",
    "    \"order\": {\n",
    "        \"id\": 12345,\n",
    "        \"currency\": \"GBP\", # optional\n",
    "        \"customer\": {\n",
    "            ...\n",
    "        },\n",
    "        \"items\": [\n",
    "            {\n",
    "                \"product_id\": 1,\n",
    "                \"quantity\": 1\n",
    "            },\n",
    "            {\n",
    "                \"product_id\": 2,\n",
    "                \"quantity\": 5\n",
    "            },\n",
    "            {\n",
    "                \"product_id\": 3,\n",
    "                \"quantity\": 1\n",
    "            }\n",
    "        ]\n",
    "    }\n",
    "}"
   ]
  },
  {
   "cell_type": "markdown",
   "metadata": {},
   "source": [
    "Format order into a dict where the key is the product_id and value is the quantity"
   ]
  },
  {
   "cell_type": "code",
   "execution_count": 5,
   "metadata": {},
   "outputs": [
    {
     "data": {
      "text/plain": [
       "{1: 1, 2: 5, 3: 1}"
      ]
     },
     "execution_count": 5,
     "metadata": {},
     "output_type": "execute_result"
    }
   ],
   "source": [
    "def format_order(order : dict):\n",
    "    return {item[\"product_id\"]:item[\"quantity\"] for item in order[\"order\"][\"items\"]}\n",
    "\n",
    "order_quantities = format_order(order)\n",
    "order_quantities"
   ]
  },
  {
   "cell_type": "markdown",
   "metadata": {},
   "source": [
    "We can now process the order"
   ]
  },
  {
   "cell_type": "code",
   "execution_count": 6,
   "metadata": {},
   "outputs": [],
   "source": [
    "def calc_order_details(order_quantities : dict, pricing : dict):\n",
    "    summary = {}\n",
    "    running_total_price = 0\n",
    "    running_total_vat = 0\n",
    "    \n",
    "    for product_id in order_quantities:\n",
    "        summary[product_id] = {}\n",
    "        quantity = order_quantities[product_id] \n",
    "        \n",
    "        total_price = quantity * pricing[product_id]['price']\n",
    "        summary[product_id][\"total_price\"] = total_price\n",
    "        running_total_price += total_price\n",
    "        \n",
    "        total_vat = quantity * pricing[product_id]['VAT']\n",
    "        summary[product_id][\"total_VAT\"] = total_vat\n",
    "        running_total_vat += total_vat\n",
    "    \n",
    "    summary[\"total_price\"] = running_total_price\n",
    "    summary[\"total_VAT\"] = running_total_vat\n",
    "    return summary"
   ]
  },
  {
   "cell_type": "code",
   "execution_count": 7,
   "metadata": {},
   "outputs": [],
   "source": [
    "order_details = calc_order_details(order_quantities, pricing)"
   ]
  },
  {
   "cell_type": "code",
   "execution_count": 8,
   "metadata": {},
   "outputs": [
    {
     "data": {
      "text/plain": [
       "{1: {'total_price': 599, 'total_VAT': 119.8},\n",
       " 2: {'total_price': 1250, 'total_VAT': 0},\n",
       " 3: {'total_price': 250, 'total_VAT': 0},\n",
       " 'total_price': 2099,\n",
       " 'total_VAT': 119.8}"
      ]
     },
     "execution_count": 8,
     "metadata": {},
     "output_type": "execute_result"
    }
   ],
   "source": [
    "order_details"
   ]
  },
  {
   "cell_type": "code",
   "execution_count": 10,
   "metadata": {},
   "outputs": [
    {
     "data": {
      "text/plain": [
       "'GBP'"
      ]
     },
     "execution_count": 10,
     "metadata": {},
     "output_type": "execute_result"
    }
   ],
   "source": [
    "# Handle currency - need to apply a conversion rate\n",
    "currency = None\n",
    "\n",
    "if not \"currency\" in order[\"order\"].keys():\n",
    "    currency = \"GBP\"\n",
    "else:\n",
    "    currency = order[\"order\"][\"currency\"]\n",
    "    \n",
    "currency"
   ]
  },
  {
   "cell_type": "code",
   "execution_count": null,
   "metadata": {},
   "outputs": [],
   "source": []
  }
 ],
 "metadata": {
  "kernelspec": {
   "display_name": "Python 3",
   "language": "python",
   "name": "python3"
  },
  "language_info": {
   "codemirror_mode": {
    "name": "ipython",
    "version": 3
   },
   "file_extension": ".py",
   "mimetype": "text/x-python",
   "name": "python",
   "nbconvert_exporter": "python",
   "pygments_lexer": "ipython3",
   "version": "3.6.5"
  }
 },
 "nbformat": 4,
 "nbformat_minor": 2
}
