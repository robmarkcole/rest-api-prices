{
 "cells": [
  {
   "cell_type": "markdown",
   "metadata": {},
   "source": [
    "The returned data structure should include:\n",
    "\n",
    "* the total price for the order\n",
    "* the total VAT for the order\n",
    "* price and VAT for each item in the order\n",
    "\n",
    "Load example order and pricing dicts"
   ]
  },
  {
   "cell_type": "code",
   "execution_count": 1,
   "metadata": {},
   "outputs": [],
   "source": [
    "# provided\n",
    "pricing = {\n",
    "\t\"prices\": [\n",
    "\t\t{\n",
    "\t\t\t\"product_id\": 1,\n",
    "\t\t\t\"price\": 599,\n",
    "\t\t\t\"vat_band\": \"standard\"\n",
    "\t\t},\n",
    "\t\t{\n",
    "\t\t\t\"product_id\": 2,\n",
    "\t\t\t\"price\": 250,\n",
    "\t\t\t\"vat_band\": \"zero\"\n",
    "\t\t},\n",
    "\t\t{\n",
    "\t\t\t\"product_id\": 3,\n",
    "\t\t\t\"price\": 250,\n",
    "\t\t\t\"vat_band\": \"zero\"\n",
    "\t\t},\n",
    "\t\t{\n",
    "\t\t\t\"product_id\": 4,\n",
    "\t\t\t\"price\": 1000,\n",
    "\t\t\t\"vat_band\": \"zero\"\n",
    "\t\t},\n",
    "\t\t{\n",
    "\t\t\t\"product_id\": 5,\n",
    "\t\t\t\"price\": 1250,\n",
    "\t\t\t\"vat_band\": \"standard\"\n",
    "\t\t}\n",
    "\t],\n",
    "\t\"vat_bands\": {\n",
    "\t\t\"standard\": 0.2,\n",
    "\t\t\"zero\": 0\n",
    "\t}\n",
    "}"
   ]
  },
  {
   "cell_type": "code",
   "execution_count": 2,
   "metadata": {},
   "outputs": [],
   "source": [
    "# format into a dict where key is product_id\n",
    "pricing_formatted = {product[\"product_id\"]:\n",
    "                                             {\n",
    "                                              \"price\":product[\"price\"], \n",
    "                                              \"vat_rate\":pricing[\"vat_bands\"][product[\"vat_band\"]],\n",
    "                                              \"VAT\":round(pricing[\"vat_bands\"][product[\"vat_band\"]]*product[\"price\"], 2) # round to nearest penny\n",
    "                                             } \n",
    "                     for product in pricing[\"prices\"]}"
   ]
  },
  {
   "cell_type": "code",
   "execution_count": 3,
   "metadata": {},
   "outputs": [
    {
     "data": {
      "text/plain": [
       "{1: {'price': 599, 'vat_rate': 0.2, 'VAT': 119.8},\n",
       " 2: {'price': 250, 'vat_rate': 0, 'VAT': 0},\n",
       " 3: {'price': 250, 'vat_rate': 0, 'VAT': 0},\n",
       " 4: {'price': 1000, 'vat_rate': 0, 'VAT': 0},\n",
       " 5: {'price': 1250, 'vat_rate': 0.2, 'VAT': 250.0}}"
      ]
     },
     "execution_count": 3,
     "metadata": {},
     "output_type": "execute_result"
    }
   ],
   "source": [
    "pricing_formatted"
   ]
  },
  {
   "cell_type": "code",
   "execution_count": 4,
   "metadata": {},
   "outputs": [],
   "source": [
    "# Provided. assume order is from a single customer\n",
    "order_request = {\n",
    "    \"order\": {\n",
    "        \"id\": 12345,\n",
    "        \"customer\": {\n",
    "            ...\n",
    "        },\n",
    "        \"items\": [\n",
    "            {\n",
    "                \"product_id\": 1,\n",
    "                \"quantity\": 1\n",
    "            },\n",
    "            {\n",
    "                \"product_id\": 2,\n",
    "                \"quantity\": 5\n",
    "            },\n",
    "            {\n",
    "                \"product_id\": 3,\n",
    "                \"quantity\": 1\n",
    "            }\n",
    "        ]\n",
    "    }\n",
    "}"
   ]
  },
  {
   "cell_type": "code",
   "execution_count": 5,
   "metadata": {},
   "outputs": [
    {
     "data": {
      "text/plain": [
       "{1: {'quantity': 1}, 2: {'quantity': 5}, 3: {'quantity': 1}}"
      ]
     },
     "execution_count": 5,
     "metadata": {},
     "output_type": "execute_result"
    }
   ],
   "source": [
    "# Get a dict where the key is the product_id and value is the quantity\n",
    "orders = {item[\"product_id\"]:{\"quantity\":item[\"quantity\"]} for item in order_request[\"order\"][\"items\"]}\n",
    "orders"
   ]
  },
  {
   "cell_type": "markdown",
   "metadata": {},
   "source": [
    "Join the two dicts on product_id (key)"
   ]
  },
  {
   "cell_type": "code",
   "execution_count": 6,
   "metadata": {},
   "outputs": [],
   "source": [
    "_ = [orders[k].update(pricing_formatted[k]) for k in orders] # one liner to update orders"
   ]
  },
  {
   "cell_type": "code",
   "execution_count": 7,
   "metadata": {},
   "outputs": [
    {
     "data": {
      "text/plain": [
       "{1: {'quantity': 1, 'price': 599, 'vat_rate': 0.2, 'VAT': 119.8},\n",
       " 2: {'quantity': 5, 'price': 250, 'vat_rate': 0, 'VAT': 0},\n",
       " 3: {'quantity': 1, 'price': 250, 'vat_rate': 0, 'VAT': 0}}"
      ]
     },
     "execution_count": 7,
     "metadata": {},
     "output_type": "execute_result"
    }
   ],
   "source": [
    "orders"
   ]
  },
  {
   "cell_type": "code",
   "execution_count": 8,
   "metadata": {},
   "outputs": [
    {
     "data": {
      "text/plain": [
       "[119.8, 0, 0]"
      ]
     },
     "execution_count": 8,
     "metadata": {},
     "output_type": "execute_result"
    }
   ],
   "source": [
    "[order[\"VAT\"] for order in orders.values()]"
   ]
  },
  {
   "cell_type": "markdown",
   "metadata": {},
   "source": [
    "We can now process the orders"
   ]
  },
  {
   "cell_type": "code",
   "execution_count": 9,
   "metadata": {},
   "outputs": [],
   "source": [
    "def calc_order_details(orders):\n",
    "    order_details = {}\n",
    "    order_details[\"orders\"] = orders\n",
    "    \n",
    "    order_details[\"total_price\"] = sum([order[\"price\"]*order[\"quantity\"] for order in orders.values()])\n",
    "    order_details[\"total_VAT\"] = sum([order[\"VAT\"]*order[\"quantity\"] for order in orders.values()])\n",
    "    return order_details"
   ]
  },
  {
   "cell_type": "code",
   "execution_count": 10,
   "metadata": {},
   "outputs": [
    {
     "data": {
      "text/plain": [
       "{'orders': {1: {'quantity': 1, 'price': 599, 'vat_rate': 0.2, 'VAT': 119.8},\n",
       "  2: {'quantity': 5, 'price': 250, 'vat_rate': 0, 'VAT': 0},\n",
       "  3: {'quantity': 1, 'price': 250, 'vat_rate': 0, 'VAT': 0}},\n",
       " 'total_price': 2099,\n",
       " 'total_VAT': 119.8}"
      ]
     },
     "execution_count": 10,
     "metadata": {},
     "output_type": "execute_result"
    }
   ],
   "source": [
    "calc_order_details(orders)"
   ]
  },
  {
   "cell_type": "code",
   "execution_count": null,
   "metadata": {},
   "outputs": [],
   "source": []
  }
 ],
 "metadata": {
  "kernelspec": {
   "display_name": "Python 3",
   "language": "python",
   "name": "python3"
  },
  "language_info": {
   "codemirror_mode": {
    "name": "ipython",
    "version": 3
   },
   "file_extension": ".py",
   "mimetype": "text/x-python",
   "name": "python",
   "nbconvert_exporter": "python",
   "pygments_lexer": "ipython3",
   "version": "3.6.5"
  }
 },
 "nbformat": 4,
 "nbformat_minor": 2
}
