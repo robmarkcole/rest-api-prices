{
 "cells": [
  {
   "cell_type": "markdown",
   "metadata": {},
   "source": [
    "Run the server with `python api.py`"
   ]
  },
  {
   "cell_type": "code",
   "execution_count": 18,
   "metadata": {},
   "outputs": [],
   "source": [
    "from requests import get, post\n",
    "import json"
   ]
  },
  {
   "cell_type": "code",
   "execution_count": 26,
   "metadata": {},
   "outputs": [],
   "source": [
    "# Provided\n",
    "order = {\n",
    "    \"order\": {\n",
    "        \"id\": 12345,\n",
    "        \"items\": [\n",
    "            {\n",
    "                \"product_id\": 1,\n",
    "                \"quantity\": 1\n",
    "            },\n",
    "            {\n",
    "                \"product_id\": 2,\n",
    "                \"quantity\": 5\n",
    "            },\n",
    "            {\n",
    "                \"product_id\": 3,\n",
    "                \"quantity\": 1\n",
    "            }\n",
    "        ]\n",
    "    }\n",
    "}"
   ]
  },
  {
   "cell_type": "code",
   "execution_count": null,
   "metadata": {},
   "outputs": [],
   "source": [
    "json.dumps(order)"
   ]
  },
  {
   "cell_type": "markdown",
   "metadata": {},
   "source": [
    "Check the response for the first order"
   ]
  },
  {
   "cell_type": "code",
   "execution_count": 45,
   "metadata": {},
   "outputs": [
    {
     "data": {
      "text/plain": [
       "{'1': {'quantity': 1, 'total_price': 599.0, 'total_VAT': 119.8},\n",
       " '2': {'quantity': 5, 'total_price': 1250.0, 'total_VAT': 0.0},\n",
       " '3': {'quantity': 1, 'total_price': 250.0, 'total_VAT': 0.0},\n",
       " 'total_price': 2099.0,\n",
       " 'total_VAT': 119.8,\n",
       " 'currency': 'GBP'}"
      ]
     },
     "execution_count": 45,
     "metadata": {},
     "output_type": "execute_result"
    }
   ],
   "source": [
    "post('http://localhost:5000/', data={'data': json.dumps(order)}).json()"
   ]
  },
  {
   "cell_type": "markdown",
   "metadata": {},
   "source": [
    "Or using CURL"
   ]
  },
  {
   "cell_type": "code",
   "execution_count": 46,
   "metadata": {},
   "outputs": [
    {
     "name": "stdout",
     "output_type": "stream",
     "text": [
      "{\n",
      "    \"message\": \"The method is not allowed for the requested URL.\"\n",
      "}\n"
     ]
    }
   ],
   "source": [
    "!CURL http://localhost:5000 -d \"\""
   ]
  },
  {
   "cell_type": "code",
   "execution_count": 8,
   "metadata": {},
   "outputs": [
    {
     "data": {
      "text/plain": [
       "'http://localhost:5000/{\"order\": {\"id\": 12345, \"items\": [{\"product_id\": 1, \"quantity\": 1}, {\"product_id\": 2, \"quantity\": 5}, {\"product_id\": 3, \"quantity\": 1}]}}'"
      ]
     },
     "execution_count": 8,
     "metadata": {},
     "output_type": "execute_result"
    }
   ],
   "source": [
    "query_url = f'http://localhost:5000'\n",
    "query_url"
   ]
  },
  {
   "cell_type": "code",
   "execution_count": 12,
   "metadata": {},
   "outputs": [
    {
     "name": "stdout",
     "output_type": "stream",
     "text": [
      "curl: (3) [globbing] nested brace in column 33\n"
     ]
    }
   ],
   "source": [
    "!CURL 'http://localhost:5000/{\"order\": {\"id\": 12345, \"items\": [{\"product_id\": 1, \"quantity\": 1}, {\"product_id\": 2, \"quantity\": 5}, {\"product_id\": 3, \"quantity\": 1}]}}'"
   ]
  },
  {
   "cell_type": "markdown",
   "metadata": {},
   "source": [
    "Repeat the order with 'USD'"
   ]
  },
  {
   "cell_type": "code",
   "execution_count": 4,
   "metadata": {},
   "outputs": [],
   "source": [
    "order_2 = order.copy()"
   ]
  },
  {
   "cell_type": "code",
   "execution_count": 5,
   "metadata": {},
   "outputs": [],
   "source": [
    "order_2[\"order\"][\"currency\"] = 'USD'"
   ]
  },
  {
   "cell_type": "code",
   "execution_count": 6,
   "metadata": {},
   "outputs": [
    {
     "data": {
      "text/plain": [
       "{'1': {'quantity': 1, 'total_price': 797.75, 'total_VAT': 159.55},\n",
       " '2': {'quantity': 5, 'total_price': 1664.75, 'total_VAT': 0.0},\n",
       " '3': {'quantity': 1, 'total_price': 332.95, 'total_VAT': 0.0},\n",
       " 'total_price': 2795.44,\n",
       " 'total_VAT': 159.55,\n",
       " 'currency': 'USD'}"
      ]
     },
     "execution_count": 6,
     "metadata": {},
     "output_type": "execute_result"
    }
   ],
   "source": [
    "get(f'http://localhost:5000/{json.dumps(order_2)}').json()"
   ]
  },
  {
   "cell_type": "markdown",
   "metadata": {},
   "source": [
    "## Suggestions for improvements\n",
    "\n",
    "1. Write classes rather than using dicts, to improve readability\n",
    "2. Catch errors (e.g due to invalid currencies) and return to user\n",
    "3. Break out currency conversion into own package\n",
    "4. Start logging orders to a db\n",
    "5. 100% test coverage!"
   ]
  },
  {
   "cell_type": "markdown",
   "metadata": {},
   "source": [
    "## Toughest part?\n",
    "\n",
    "Working with nested dicts! At first sight the problem was `just` small enough to not justify creating a class wrapp for `products`, but once I finished the challenge I wish I had made the effort."
   ]
  },
  {
   "cell_type": "markdown",
   "metadata": {},
   "source": [
    "## What bit are you most proud of\n",
    "\n",
    "This was my first time using `Flask-rest` and I surprised myself that I produced a passable api in a relatively short amount of time"
   ]
  },
  {
   "cell_type": "markdown",
   "metadata": {},
   "source": [
    "## What one thing could we do to improve this test?\n",
    "\n",
    "You could ask an additional question: **what factors we would need to consider if turning this into production code?**"
   ]
  },
  {
   "cell_type": "code",
   "execution_count": null,
   "metadata": {},
   "outputs": [],
   "source": []
  }
 ],
 "metadata": {
  "kernelspec": {
   "display_name": "Python 3",
   "language": "python",
   "name": "python3"
  },
  "language_info": {
   "codemirror_mode": {
    "name": "ipython",
    "version": 3
   },
   "file_extension": ".py",
   "mimetype": "text/x-python",
   "name": "python",
   "nbconvert_exporter": "python",
   "pygments_lexer": "ipython3",
   "version": "3.6.5"
  }
 },
 "nbformat": 4,
 "nbformat_minor": 2
}
